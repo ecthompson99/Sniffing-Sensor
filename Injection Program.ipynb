{
 "cells": [
  {
   "cell_type": "markdown",
   "metadata": {},
   "source": [
    "# Injection Program\n",
    "* Serves as a communication platform between\n",
    "    * Teensy -- odorant valves\n",
    "    * Spectrometer\n",
    "    * SQL database\n",
    "* Allows user to control spectrometer settings, and experiment recipe procedure"
   ]
  },
  {
   "cell_type": "markdown",
   "metadata": {},
   "source": [
    "Import Modules"
   ]
  },
  {
   "cell_type": "code",
   "execution_count": 1,
   "metadata": {},
   "outputs": [],
   "source": [
    "from seabreeze.spectrometers import Spectrometer\n",
    "from matplotlib import pyplot as plt\n",
    "import time\n",
    "import numpy as np\n",
    "import serial\n",
    "import sys\n",
    "import numpy as np\n",
    "import csv\n",
    "from scan_functions import *\n",
    "import pandas as pd\n",
    "import sqlite3\n",
    "import datetime"
   ]
  },
  {
   "cell_type": "markdown",
   "metadata": {},
   "source": [
    "Import Spectrometer"
   ]
  },
  {
   "cell_type": "code",
   "execution_count": 3,
   "metadata": {},
   "outputs": [],
   "source": [
    "spec = Spectrometer.from_first_available()"
   ]
  },
  {
   "cell_type": "markdown",
   "metadata": {},
   "source": [
    "Set Integration Time"
   ]
  },
  {
   "cell_type": "code",
   "execution_count": 4,
   "metadata": {},
   "outputs": [
    {
     "name": "stdout",
     "output_type": "stream",
     "text": [
      "Set integration time (in ms): 14\n"
     ]
    }
   ],
   "source": [
    "time_in_ms = int(input(\"Set integration time (in ms): \"))*10**3\n",
    "spec.integration_time_micros(time_in_ms) # Sets integration time"
   ]
  },
  {
   "cell_type": "markdown",
   "metadata": {},
   "source": [
    "Set recipe"
   ]
  },
  {
   "cell_type": "code",
   "execution_count": 5,
   "metadata": {},
   "outputs": [
    {
     "name": "stdout",
     "output_type": "stream",
     "text": [
      "Please input the cycle times in seconds: 30 30 30\n",
      "How many scans per second?: 10\n",
      "Please input the cleaning times in seconds (3 or a single value): 600 60 60\n"
     ]
    }
   ],
   "source": [
    "odorant_time = input(\"Please input the cycle times in seconds: \")\n",
    "delay_time = int(input(\"How many scans per second?: \"))\n",
    "\n",
    "odorant_time = csv_to_time(odorant_time)\n",
    "\n",
    "invalid_input = True\n",
    "\n",
    "while invalid_input:\n",
    "    wrong = False\n",
    "    clean_time = input(\"Please input the cleaning times in seconds ({} or a single value): \".format(len(odorant_time)))\n",
    "\n",
    "    clean_time = csv_to_time(clean_time)\n",
    "\n",
    "    if len(clean_time) == 1: \n",
    "        clean_time = [clean_time[0] for i in range(len(odorant_time))]\n",
    "    elif len(clean_time) != len(odorant_time): \n",
    "        print(\"Try again. \\n\")\n",
    "        wrong = True\n",
    "        \n",
    "    invalid_input = False + wrong\n",
    "    \n"
   ]
  },
  {
   "cell_type": "markdown",
   "metadata": {},
   "source": [
    "Run the Experiment"
   ]
  },
  {
   "cell_type": "code",
   "execution_count": null,
   "metadata": {},
   "outputs": [
    {
     "name": "stdout",
     "output_type": "stream",
     "text": [
      "Which port number is is the teensy?: 4\n",
      "Experiment Name: 12\n",
      "What compound are you testing?: Water\n",
      "What procedure are you performing?: Testing\n",
      "\n",
      "------------------------------\n",
      "Done Captures!\n"
     ]
    }
   ],
   "source": [
    "port = input(\"Which port number is is the teensy?: \").strip()\n",
    "\n",
    "# ======================= WRITING TO SQL DATABASE =======================\n",
    "conn = sqlite3.connect('Database/Sniffing-Sensor.db') # connect to the database\n",
    "c = conn.cursor() # Creates a cursor to interact with database\n",
    "\n",
    "# Experiment Name - Integer ID\n",
    "exp_name = \"Default\"\n",
    "c.execute(\"SELECT ExperimentID FROM Experiments\")\n",
    "data = c.fetchall()\n",
    "if data == []: \n",
    "    exp_name = 1\n",
    "else:\n",
    "    exp_name = data[-1][0] + 1\n",
    "print(\"Experiment Name: {}\".format(exp_name))\n",
    "\n",
    "# Timestamp\n",
    "timestamp = str(datetime.datetime.fromtimestamp(time.time()).strftime('%Y-%m-%d %H:%M:%S'))\n",
    "\n",
    "# Compound name coded into its OdorID from the database\n",
    "compound = input(\"What compound are you testing?: \").strip().upper()\n",
    "temp = c.execute(\"SELECT OdorID FROM Odors WHERE Name='%s'\" %str(compound))\n",
    "OdorID = c.fetchall()[0][0]\n",
    "\n",
    "\n",
    "# Procedure name coded into its ProcedureID from the database\n",
    "procedure = input(\"What procedure are you performing?: \").strip().capitalize()\n",
    "temp = c.execute(\"SELECT ProcedureID FROM Procedures WHERE Name='%s'\" %str(procedure))\n",
    "ProcedureID = c.fetchall()[0][0]\n",
    "\n",
    "# Creates a PNG and CSV File pointing to the location of the files\n",
    "PNG = \"../Scan CSV Files/CSV/{}.png\".format(exp_name)\n",
    "CSV = \"../Scan CSV Files/PNG/{}.png\".format(exp_name)\n",
    "\n",
    "\n",
    "# ======================= WRITING TO CSV File =======================\n",
    "\n",
    "df = pd.DataFrame()\n",
    "df[\"Wavelengths\"] = spec.wavelengths()\n",
    "df.set_index(\"Wavelengths\")\n",
    "   \n",
    "# ============================== RECIPE ==============================\n",
    "ser = serial.Serial(\"COM{}\".format(port), 9600) # Opening serial port to communicate with teensy\n",
    "\n",
    "intensities = [spec.intensities()] # empty list to be populated with intensity values from spec\n",
    "elapse = [0] #empty list to be populated with time values\n",
    "\n",
    "\n",
    "for i in range(len(odorant_time)): \n",
    "    nitro_arg = [clean_time[i], ser, intensities, spec, elapse]\n",
    "    Nitrogen(*nitro_arg)\n",
    "    \n",
    "    odorant_arg = [odorant_time[i], ser, intensities, spec, delay_time, elapse]\n",
    "    Water(*odorant_arg) # Change the function based on what odorant you are testing\n",
    "    \n",
    "for i in range(len(elapse)):\n",
    "    df[\"{}\".format(round(elapse[i],2))] = intensities[i] # Write to the i'th column the intensities\n",
    "\n",
    "sys.stdout.write(\"\\n{}\\nDone Captures!\\n\".format('-'*30))\n",
    "    \n",
    "# ========================== WRITING TO FILES ==========================\n",
    "df.to_csv(\"../Scan CSV Files/{}.csv\".format(exp_name)) # Writing to the CSV file\n",
    "\n",
    "plot_river(np.array(intensities),plt, np) # Plotting river plot\n",
    "\n",
    "plt.savefig(\"../Scan CSV Files/PNG/{}.png\".format(exp_name)) # Save figure to file\n",
    "\n",
    "\n",
    "Notes = input(\"Do you have any comments about the experiment?: \")\n",
    "Notes += \"\\nOdorant Times: {}\\nClean Times: {}\\n\".format(\", \".join([str(i) for i in clean_time]),\n",
    "                                                         \", \".join([str(i) for i in odorant_time]))\n",
    "\n",
    "c.execute(\"\"\"INSERT INTO Experiments (Timestamp, OdorID, ProcedureID, PNG, CSV, Notes)\n",
    "             VALUES (?, ?, ?, ?, ?, ?)\"\"\",\n",
    "             (timestamp, OdorID, ProcedureID, PNG, CSV, Notes))\n",
    "\n",
    "\n",
    "# ========================== CLOSE CONNECTIONS ==========================\n",
    "conn.commit() # Save values\n",
    "ser.close() # Closing serial\n",
    "c.close() # Close cursor \n",
    "conn.close() # Close connection to save memory"
   ]
  }
 ],
 "metadata": {
  "kernelspec": {
   "display_name": "Python 3",
   "language": "python",
   "name": "python3"
  },
  "language_info": {
   "codemirror_mode": {
    "name": "ipython",
    "version": 3
   },
   "file_extension": ".py",
   "mimetype": "text/x-python",
   "name": "python",
   "nbconvert_exporter": "python",
   "pygments_lexer": "ipython3",
   "version": "3.7.1"
  }
 },
 "nbformat": 4,
 "nbformat_minor": 2
}
