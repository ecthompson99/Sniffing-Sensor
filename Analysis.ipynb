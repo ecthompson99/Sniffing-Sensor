{
 "cells": [
  {
   "cell_type": "markdown",
   "metadata": {},
   "source": [
    "# Data Analysis\n",
    "This program is used in conjunction with the \"Injection Program\" notebook to analyze spectroscopy data, using pandas and matplotlib.\n",
    "The first part of this notebook focuses on pre-processing techniques. The second half (not yet available) is dedicated to the machine learning implementation to classify our datasets."
   ]
  },
  {
   "cell_type": "markdown",
   "metadata": {},
   "source": [
    "### PART 1: Pre-Processing"
   ]
  },
  {
   "cell_type": "markdown",
   "metadata": {},
   "source": [
    "Select which dataset to analyze"
   ]
  },
  {
   "cell_type": "code",
   "execution_count": 85,
   "metadata": {
    "scrolled": true
   },
   "outputs": [
    {
     "name": "stdout",
     "output_type": "stream",
     "text": [
      "Experiment name: 11\n",
      "What chemical: Water\n"
     ]
    }
   ],
   "source": [
    "import pandas as pd\n",
    "import matplotlib.pyplot as plt\n",
    "import numpy as np\n",
    "from scipy.signal import savgol_filter as sgf\n",
    "import matplotlib.cm as cm\n",
    "import matplotlib.animation as animation\n",
    "\n",
    "%matplotlib qt\n",
    "\n",
    "exp_name = input(\"Experiment name: \").strip()\n",
    "df = pd.read_csv(\"../Scan CSV Files/{}.csv\".format(exp_name))\n",
    "df.drop(\"Unnamed: 0\", axis=1, inplace=True)\n",
    "df.set_index(\"Wavelengths\", inplace=True)\n",
    "\n",
    "chemical = input(\"What chemical: \")"
   ]
  },
  {
   "cell_type": "markdown",
   "metadata": {},
   "source": [
    "##### Spectra"
   ]
  },
  {
   "cell_type": "code",
   "execution_count": 84,
   "metadata": {
    "scrolled": true
   },
   "outputs": [
    {
     "ename": "AttributeError",
     "evalue": "'DataFrame' object has no attribute 'intensities'",
     "output_type": "error",
     "traceback": [
      "\u001b[1;31m---------------------------------------------------------------------------\u001b[0m",
      "\u001b[1;31mAttributeError\u001b[0m                            Traceback (most recent call last)",
      "\u001b[1;32m<ipython-input-84-09141610f4d9>\u001b[0m in \u001b[0;36m<module>\u001b[1;34m\u001b[0m\n\u001b[0;32m     19\u001b[0m \u001b[1;33m\u001b[0m\u001b[0m\n\u001b[0;32m     20\u001b[0m \u001b[0mani\u001b[0m \u001b[1;33m=\u001b[0m \u001b[0manimation\u001b[0m\u001b[1;33m.\u001b[0m\u001b[0mFuncAnimation\u001b[0m\u001b[1;33m(\u001b[0m\u001b[0mfig\u001b[0m\u001b[1;33m,\u001b[0m \u001b[0manimate\u001b[0m\u001b[1;33m,\u001b[0m \u001b[0minterval\u001b[0m\u001b[1;33m=\u001b[0m\u001b[1;36m1\u001b[0m\u001b[1;33m)\u001b[0m\u001b[1;33m\u001b[0m\u001b[1;33m\u001b[0m\u001b[0m\n\u001b[1;32m---> 21\u001b[1;33m \u001b[0mplt\u001b[0m\u001b[1;33m.\u001b[0m\u001b[0mplot\u001b[0m\u001b[1;33m(\u001b[0m\u001b[0mdf\u001b[0m\u001b[1;33m.\u001b[0m\u001b[0mintensities\u001b[0m\u001b[1;33m[\u001b[0m\u001b[1;36m0\u001b[0m\u001b[1;33m]\u001b[0m\u001b[1;33m)\u001b[0m\u001b[1;33m\u001b[0m\u001b[1;33m\u001b[0m\u001b[0m\n\u001b[0m\u001b[0;32m     22\u001b[0m \u001b[0mplt\u001b[0m\u001b[1;33m.\u001b[0m\u001b[0mplot\u001b[0m\u001b[1;33m(\u001b[0m\u001b[0mdf\u001b[0m\u001b[1;33m.\u001b[0m\u001b[0mintensities\u001b[0m\u001b[1;33m[\u001b[0m\u001b[1;33m-\u001b[0m\u001b[1;36m1\u001b[0m\u001b[1;33m]\u001b[0m\u001b[1;33m)\u001b[0m\u001b[1;33m\u001b[0m\u001b[1;33m\u001b[0m\u001b[0m\n\u001b[0;32m     23\u001b[0m \u001b[0mplt\u001b[0m\u001b[1;33m.\u001b[0m\u001b[0mshow\u001b[0m\u001b[1;33m(\u001b[0m\u001b[1;33m)\u001b[0m\u001b[1;33m\u001b[0m\u001b[1;33m\u001b[0m\u001b[0m\n",
      "\u001b[1;32mD:\\Documents\\Anaconda\\lib\\site-packages\\pandas\\core\\generic.py\u001b[0m in \u001b[0;36m__getattr__\u001b[1;34m(self, name)\u001b[0m\n\u001b[0;32m   4374\u001b[0m             \u001b[1;32mif\u001b[0m \u001b[0mself\u001b[0m\u001b[1;33m.\u001b[0m\u001b[0m_info_axis\u001b[0m\u001b[1;33m.\u001b[0m\u001b[0m_can_hold_identifiers_and_holds_name\u001b[0m\u001b[1;33m(\u001b[0m\u001b[0mname\u001b[0m\u001b[1;33m)\u001b[0m\u001b[1;33m:\u001b[0m\u001b[1;33m\u001b[0m\u001b[1;33m\u001b[0m\u001b[0m\n\u001b[0;32m   4375\u001b[0m                 \u001b[1;32mreturn\u001b[0m \u001b[0mself\u001b[0m\u001b[1;33m[\u001b[0m\u001b[0mname\u001b[0m\u001b[1;33m]\u001b[0m\u001b[1;33m\u001b[0m\u001b[1;33m\u001b[0m\u001b[0m\n\u001b[1;32m-> 4376\u001b[1;33m             \u001b[1;32mreturn\u001b[0m \u001b[0mobject\u001b[0m\u001b[1;33m.\u001b[0m\u001b[0m__getattribute__\u001b[0m\u001b[1;33m(\u001b[0m\u001b[0mself\u001b[0m\u001b[1;33m,\u001b[0m \u001b[0mname\u001b[0m\u001b[1;33m)\u001b[0m\u001b[1;33m\u001b[0m\u001b[1;33m\u001b[0m\u001b[0m\n\u001b[0m\u001b[0;32m   4377\u001b[0m \u001b[1;33m\u001b[0m\u001b[0m\n\u001b[0;32m   4378\u001b[0m     \u001b[1;32mdef\u001b[0m \u001b[0m__setattr__\u001b[0m\u001b[1;33m(\u001b[0m\u001b[0mself\u001b[0m\u001b[1;33m,\u001b[0m \u001b[0mname\u001b[0m\u001b[1;33m,\u001b[0m \u001b[0mvalue\u001b[0m\u001b[1;33m)\u001b[0m\u001b[1;33m:\u001b[0m\u001b[1;33m\u001b[0m\u001b[1;33m\u001b[0m\u001b[0m\n",
      "\u001b[1;31mAttributeError\u001b[0m: 'DataFrame' object has no attribute 'intensities'"
     ]
    }
   ],
   "source": [
    "%matplotlib qt\n",
    "\n",
    "fig = plt.figure(figsize=(14,7))\n",
    "reg = fig.add_subplot(111, title=\"{}: Experiment Spectra\".format(chemical), xlabel=\"Wavelength (nm)\", ylabel=\"Intensity (A.u.)\")\n",
    "\n",
    "sliced = [df.index[500], df.index[1200]]\n",
    "colors = cm.rainbow(np.linspace(0, 1, len(df.columns)))\n",
    "\n",
    "intensities = [sgf(list(df.loc[sliced[0]:sliced[1], df.columns[i]]), window_length=101, polyorder=2) for i in range(len(df.columns))]\n",
    "yticks = np.linspace(int(np.amin(np.array(intensities))*1.1), int(np.amax(np.array(intensities))*1.1), 10)\n",
    "\n",
    "\n",
    "def animate(i): \n",
    "    reg.clear()\n",
    "    reg.plot(intensities[i], color=colors[i])\n",
    "    reg.set_yticks(yticks)\n",
    "    reg.set_yticklabels([int(i) for i in yticks])\n",
    "    reg.legend([df.columns[i]])\n",
    "\n",
    "ani = animation.FuncAnimation(fig, animate, interval=1)\n",
    "plt.plot(df.intensities[0])\n",
    "plt.plot(df.intensities[-1])\n",
    "plt.show()"
   ]
  },
  {
   "cell_type": "markdown",
   "metadata": {},
   "source": [
    "##### Fourier Transform"
   ]
  },
  {
   "cell_type": "code",
   "execution_count": 89,
   "metadata": {},
   "outputs": [
    {
     "name": "stdout",
     "output_type": "stream",
     "text": [
      "Save figure?: y\n"
     ]
    }
   ],
   "source": [
    "f = 1\n",
    "fig = plt.figure(figsize=(14,7))\n",
    "# reg = fig.add_subplot(121, title=\"{} Experiment Spectra\".format(chemical), xlabel=\"Wavelength (nm)\", ylabel=\"Intensity (A.u.)\")\n",
    "ft = fig.add_subplot(111, title=\"{} Experiment Fourier transform\".format(chemical), xlabel=\"time (s)\")\n",
    "\n",
    "sliced = [df.index[500], df.index[1200]]\n",
    "# reg.plot( df.loc[sliced[0]:sliced[1], :])\n",
    "# reg.plot( df.loc[sliced[0]:sliced[1], '750.0':'810.0'])\n",
    "\n",
    "# taking the transpose means you get the fourier transform with time axis\n",
    "ft_data = np.fft.fft( (df.loc[sliced[0]:sliced[1], :]).transpose() ) \n",
    "# ft_data = np.fft.fft( (df.loc[sliced[0]:sliced[1], '750.0':'810.0']).transpose() ) \n",
    "\n",
    "ft.plot(np.real(ft_data[:,f]))\n",
    "ft.plot(np.imag(ft_data[:,f]))\n",
    "\n",
    "# =========== Figure Layout ============ #\n",
    "\n",
    "# axes titles\n",
    "ft.set_xticks(np.linspace(0, len(df.columns), 11)) # 11 ticks\n",
    "ft.set_xticklabels([df.columns[i] for i in range(len(df.columns)) if i%(int(len(df.columns)/10)) == 0]) \n",
    "# ft.set_xticks(np.linspace(0, 600, 11)) # 11 ticks\n",
    "# ft.set_xticklabels([df.columns[i] for i in range(7500,8100) if i%(int(600/10)) == 0]) \n",
    "\n",
    "if input(\"Save figure?: \").lower() != \"y\":\n",
    "    pass\n",
    "else: \n",
    "    plt.savefig(\"../Analysis Images/{}_fourier.png\".format(exp_name))"
   ]
  },
  {
   "cell_type": "markdown",
   "metadata": {},
   "source": [
    "##### Phase Calculation"
   ]
  },
  {
   "cell_type": "code",
   "execution_count": 90,
   "metadata": {},
   "outputs": [
    {
     "name": "stdout",
     "output_type": "stream",
     "text": [
      "Save figure?: y\n"
     ]
    }
   ],
   "source": [
    "R = np.real(ft_data[:, 1])\n",
    "I = np.imag(ft_data[:, 1])\n",
    "\n",
    "# Calculating Phase\n",
    "\n",
    "phase = I / (R ** 2 + I ** 2) ** 0.5\n",
    "phase = sgf(phase, window_length=31, polyorder=3)\n",
    "\n",
    "# Normalization\n",
    "\n",
    "phase = phase/np.sqrt(np.sum(phase**2))\n",
    "\n",
    "# Plotting\n",
    "\n",
    "fig = plt.figure(figsize=(14,7))\n",
    "\n",
    "# ft = fig.add_subplot(121, title=\"{} Experiment Fourier Transform\".format(chemical), xlabel=\"time (s)\", ylabel=\"Intensity (A.u.)\")\n",
    "ph = fig.add_subplot(111, title=\"{} Experiment Phase\".format(chemical), xlabel=\"time (s)\")\n",
    "\n",
    "# ft.plot(np.real(ft_data[:,f]))\n",
    "# ft.plot(np.imag(ft_data[:,f]))\n",
    "\n",
    "ph.plot(phase)\n",
    "\n",
    "# ft.set_xticks(np.linspace(0, len(df.columns), 11))\n",
    "# ft.set_xticklabels([df.columns[i] for i in range(len(df.columns)) if i%int(len(df.columns)/10) == 0])\n",
    "\n",
    "ph.set_xticks(np.linspace(0, len(df.columns), 11))\n",
    "ph.set_xticklabels([df.columns[i] for i in range(len(df.columns)) if i%int(len(df.columns)/10) == 0])\n",
    "\n",
    "# ft.set_xticks(np.linspace(0, 600, 11)) # 11 ticks\n",
    "# ft.set_xticklabels([df.columns[i] for i in range(7500,8100) if i%(int(600/10)) == 0])\n",
    "\n",
    "\n",
    "# ph.set_xticks(np.linspace(0, 600, 11)) # 11 ticks\n",
    "# ph.set_xticklabels([df.columns[i] for i in range(7500,8100) if i%(int(600/10)) == 0])\n",
    "\n",
    "if input(\"Save figure?: \").lower() != \"y\":\n",
    "    pass\n",
    "else: \n",
    "    plt.savefig(\"../Analysis Images/{}_phase.png\".format(exp_name))"
   ]
  },
  {
   "cell_type": "markdown",
   "metadata": {},
   "source": [
    "##### Phase Derivative"
   ]
  },
  {
   "cell_type": "code",
   "execution_count": 91,
   "metadata": {},
   "outputs": [
    {
     "name": "stdout",
     "output_type": "stream",
     "text": [
      "Save figure?: y\n"
     ]
    }
   ],
   "source": [
    "phase_deriv = np.diff(phase)\n",
    "phase_deriv = sgf(phase_deriv, window_length=31, polyorder=3)\n",
    "\n",
    "# Normalization\n",
    "\n",
    "phase_deriv = phase_deriv/np.sqrt(np.sum(phase_deriv**2))\n",
    "\n",
    "# Plotting\n",
    "\n",
    "fig = plt.figure(figsize=(14,7))\n",
    "\n",
    "# ph = fig.add_subplot(121, title=\"{} Experiment Phase\".format(chemical), xlabel=\"time (s)\", ylabel=\"Intensity (A.u.)\")\n",
    "pd = fig.add_subplot(111, title=\"{} Experiment Phase Derivative\".format(chemical), xlabel=\"time (s)\")\n",
    "\n",
    "# ph.plot(phase)\n",
    "pd.plot(phase_deriv)\n",
    "\n",
    "pd.set_xticks(np.linspace(0, len(df.columns), 11))\n",
    "pd.set_xticklabels([df.columns[i] for i in range(len(df.columns)) if i%int(len(df.columns)/10) == 0])\n",
    "# ph.set_xticks(np.linspace(0, len(df.columns), 11))\n",
    "# ph.set_xticklabels([df.columns[i] for i in range(len(df.columns)) if i%int(len(df.columns)/10) == 0])\n",
    "\n",
    "# pd.set_xticks(np.linspace(0, 600, 11)) # 11 ticks\n",
    "# pd.set_xticklabels([df.columns[i] for i in range(7500,8100) if i%(int(600/10)) == 0])\n",
    "# ph.set_xticks(np.linspace(0, 600, 11)) # 11 ticks\n",
    "# ph.set_xticklabels([df.columns[i] for i in range(7500,8100) if i%(int(600/10)) == 0])\n",
    "\n",
    "if input(\"Save figure?: \").lower() != \"y\":\n",
    "    pass\n",
    "else: \n",
    "    plt.savefig(\"../Analysis Images/{}_phase_deriv.png\".format(exp_name))"
   ]
  },
  {
   "cell_type": "markdown",
   "metadata": {},
   "source": [
    "### PART 2: Machine Learning Framework"
   ]
  },
  {
   "cell_type": "code",
   "execution_count": null,
   "metadata": {},
   "outputs": [],
   "source": []
  }
 ],
 "metadata": {
  "kernelspec": {
   "display_name": "Python 3",
   "language": "python",
   "name": "python3"
  },
  "language_info": {
   "codemirror_mode": {
    "name": "ipython",
    "version": 3
   },
   "file_extension": ".py",
   "mimetype": "text/x-python",
   "name": "python",
   "nbconvert_exporter": "python",
   "pygments_lexer": "ipython3",
   "version": "3.7.1"
  }
 },
 "nbformat": 4,
 "nbformat_minor": 2
}
